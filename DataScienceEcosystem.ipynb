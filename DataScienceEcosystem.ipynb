{
 "cells": [
  {
   "cell_type": "markdown",
   "id": "06359bde-308b-413a-8f9f-1c3266a147a2",
   "metadata": {},
   "source": [
    "# Data Science Tools and Ecosystem"
   ]
  },
  {
   "cell_type": "markdown",
   "id": "989c4305-1cd2-47fe-a1e6-98c456794724",
   "metadata": {},
   "source": [
    "This is the final assignment project for the course Tools For Data Science.In this notebook, Data Science Tools and Ecosystem are summarized."
   ]
  },
  {
   "cell_type": "markdown",
   "id": "ab6b2448-945b-4b22-b3a7-096e1af80861",
   "metadata": {},
   "source": [
    "**Objectives:**\n",
    "- List popular languages used by Data Scientists\n",
    "- List commonly used libraries used by Data Scientists\n",
    "- Table of Data Science tools\n",
    "- Evaluating arithmetic expressions in Python"
   ]
  },
  {
   "cell_type": "markdown",
   "id": "f041652a-89b6-443c-88a6-7af621810786",
   "metadata": {},
   "source": [
    "Some of the popular languages that Data Scientists use are:\n",
    "1. Python\n",
    "2. R\n",
    "3. SQL Languages\n",
    "4. Scala\n",
    "5. Java\n",
    "6. C++\n",
    "7. Julia"
   ]
  },
  {
   "cell_type": "markdown",
   "id": "e15eb9b8-c1e7-4c8b-bea5-07daa3adf59d",
   "metadata": {},
   "source": [
    "Some of the commonly used libraries used by Data Scientists include:\n",
    "1. Scientific Computing Libraries - Pandas, NumPy\n",
    "2. Visualization Libraries - Matplotlib, Seaborn\n",
    "3. High-Level- Machine Learning and Deep Learning Libraries - Scikit-learn, Keras, TensorFlow, PyTorch\n",
    "4. Deep Learning Libraries - Big DL"
   ]
  },
  {
   "cell_type": "markdown",
   "id": "5da00d40-349b-40c2-89c2-c545ca6e2cd1",
   "metadata": {},
   "source": [
    "|Data Science Tools|\n",
    "|------------------|\n",
    "|Anaconda|\n",
    "|Jupyter Notebooks|\n",
    "|RStudio|"
   ]
  },
  {
   "cell_type": "markdown",
   "id": "ba59117d-52e3-49b9-94fa-dbcadcceec55",
   "metadata": {},
   "source": [
    "### Below are a few examples of evaluating arithmetic expressions in Python"
   ]
  },
  {
   "cell_type": "code",
   "execution_count": 2,
   "id": "6f038549-75b1-4db2-ad14-d7372152f2ff",
   "metadata": {},
   "outputs": [
    {
     "data": {
      "text/plain": [
       "17"
      ]
     },
     "execution_count": 2,
     "metadata": {},
     "output_type": "execute_result"
    }
   ],
   "source": [
    "# This a simple arithmetic expression to mutiply then add integers\n",
    "(3*4)+5"
   ]
  },
  {
   "cell_type": "code",
   "execution_count": 3,
   "id": "0ddc0ab0-186f-4047-bf25-8dad61a9af88",
   "metadata": {},
   "outputs": [
    {
     "data": {
      "text/plain": [
       "3.3333333333333335"
      ]
     },
     "execution_count": 3,
     "metadata": {},
     "output_type": "execute_result"
    }
   ],
   "source": [
    "# This will convert 200 minutes to hours by diving by 60\n",
    "200/60"
   ]
  },
  {
   "cell_type": "markdown",
   "id": "1e8443e8-7f05-4cca-866e-1042206bf864",
   "metadata": {},
   "source": [
    "## Author\n",
    "Vane Shen"
   ]
  },
  {
   "cell_type": "code",
   "execution_count": null,
   "id": "3c754821-861b-43dd-9ae2-9f8b50b92470",
   "metadata": {},
   "outputs": [],
   "source": []
  }
 ],
 "metadata": {
  "kernelspec": {
   "display_name": "Python 3 (ipykernel)",
   "language": "python",
   "name": "python3"
  },
  "language_info": {
   "codemirror_mode": {
    "name": "ipython",
    "version": 3
   },
   "file_extension": ".py",
   "mimetype": "text/x-python",
   "name": "python",
   "nbconvert_exporter": "python",
   "pygments_lexer": "ipython3",
   "version": "3.12.5"
  }
 },
 "nbformat": 4,
 "nbformat_minor": 5
}
